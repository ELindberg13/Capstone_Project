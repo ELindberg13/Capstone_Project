{
 "cells": [
  {
   "cell_type": "markdown",
   "metadata": {},
   "source": [
    "## Making a Predictor for the last hero of a team"
   ]
  },
  {
   "cell_type": "markdown",
   "metadata": {},
   "source": [
    "Based on the fNN that predicts heroes and the probability that a set of 5 heroes will win, run through the available choices of remaining heroes and recommend the 5 choices with the best probability of winning"
   ]
  },
  {
   "cell_type": "code",
   "execution_count": 2,
   "metadata": {},
   "outputs": [],
   "source": [
    "import numpy as np\n",
    "import pandas as pd\n",
    "import matplotlib.pyplot as plt\n",
    "import seaborn as sns\n",
    "\n",
    "from sklearn.model_selection import train_test_split\n",
    "from sklearn.preprocessing import StandardScaler\n",
    "from sklearn.feature_extraction.text import CountVectorizer\n",
    "\n",
    "from tensorflow.keras.models import load_model"
   ]
  },
  {
   "cell_type": "markdown",
   "metadata": {},
   "source": [
    "### The below cell is run to initilize the count vectorizer, which is needed when running the recommender"
   ]
  },
  {
   "cell_type": "code",
   "execution_count": 3,
   "metadata": {},
   "outputs": [],
   "source": [
    "# importing the cleaned match data\n",
    "match_df = pd.read_csv(\"../data/complete_match_df.csv\")\n",
    "\n",
    "rad_cvec = CountVectorizer()\n",
    "dire_cvec = CountVectorizer()\n",
    "rad_df = pd.DataFrame(rad_cvec.fit_transform(match_df['radiant']).toarray() , columns = rad_cvec.get_feature_names())\n",
    "dire_df = pd.DataFrame(dire_cvec.fit_transform(match_df['dire']).toarray() , columns = dire_cvec.get_feature_names())\n",
    "match_hero_df = pd.concat([rad_df,dire_df], axis=1)\n",
    "\n",
    "X = match_hero_df\n",
    "y = match_df['winner'].map({'radiant' : 1 , 'dire' : 0})\n",
    "\n",
    "X_train, X_test, y_train, y_test = train_test_split(X,y,test_size=0.25,random_state=2020)\n",
    "\n",
    "sc = StandardScaler()\n",
    "X_train_sc = sc.fit_transform(X_train)\n",
    "X_test_sc = sc.transform(X_test)"
   ]
  },
  {
   "cell_type": "code",
   "execution_count": 4,
   "metadata": {},
   "outputs": [
    {
     "name": "stdout",
     "output_type": "stream",
     "text": [
      "WARNING:tensorflow:From C:\\ProgramData\\Anaconda3\\envs\\dsi\\lib\\site-packages\\tensorflow_core\\python\\ops\\init_ops.py:97: calling GlorotUniform.__init__ (from tensorflow.python.ops.init_ops) with dtype is deprecated and will be removed in a future version.\n",
      "Instructions for updating:\n",
      "Call initializer instance with the dtype argument instead of passing it to the constructor\n",
      "WARNING:tensorflow:From C:\\ProgramData\\Anaconda3\\envs\\dsi\\lib\\site-packages\\tensorflow_core\\python\\ops\\init_ops.py:97: calling Zeros.__init__ (from tensorflow.python.ops.init_ops) with dtype is deprecated and will be removed in a future version.\n",
      "Instructions for updating:\n",
      "Call initializer instance with the dtype argument instead of passing it to the constructor\n",
      "WARNING:tensorflow:From C:\\ProgramData\\Anaconda3\\envs\\dsi\\lib\\site-packages\\tensorflow_core\\python\\ops\\resource_variable_ops.py:1630: calling BaseResourceVariable.__init__ (from tensorflow.python.ops.resource_variable_ops) with constraint is deprecated and will be removed in a future version.\n",
      "Instructions for updating:\n",
      "If using Keras pass *_constraint arguments to layers.\n",
      "WARNING:tensorflow:Large dropout rate: 0.85 (>0.5). In TensorFlow 2.x, dropout() uses dropout rate instead of keep_prob. Please ensure that this is intended.\n",
      "WARNING:tensorflow:Large dropout rate: 0.85 (>0.5). In TensorFlow 2.x, dropout() uses dropout rate instead of keep_prob. Please ensure that this is intended.\n",
      "WARNING:tensorflow:From C:\\ProgramData\\Anaconda3\\envs\\dsi\\lib\\site-packages\\tensorflow_core\\python\\ops\\nn_impl.py:183: where (from tensorflow.python.ops.array_ops) is deprecated and will be removed in a future version.\n",
      "Instructions for updating:\n",
      "Use tf.where in 2.0, which has the same broadcast rule as np.where\n"
     ]
    }
   ],
   "source": [
    "#importing the trained NN to generate recommendations\n",
    "NN_model = load_model(\"../data/NN_model/NN_model\")"
   ]
  },
  {
   "cell_type": "markdown",
   "metadata": {},
   "source": [
    "## Below is the code which provides the probability and which team will win for a complete 5v5 Dota 2 match"
   ]
  },
  {
   "cell_type": "code",
   "execution_count": 16,
   "metadata": {},
   "outputs": [
    {
     "name": "stdout",
     "output_type": "stream",
     "text": [
      "Radiant is predicted to win with a 64.48% chance\n"
     ]
    }
   ],
   "source": [
    "# creating a list of hero names to run the model on\n",
    "hero_data = {\n",
    "'dire_hero_1': 'tidehunter',\n",
    " 'dire_hero_2': 'lion',\n",
    " 'dire_hero_3': 'sniper',\n",
    " 'dire_hero_4': 'sven',\n",
    " 'dire_hero_5': 'vengefulspirit',\n",
    " 'radiant_hero_1': 'juggernaut',\n",
    " 'radiant_hero_2': 'drow_ranger',\n",
    " 'radiant_hero_3': 'dragon_knight',\n",
    " 'radiant_hero_4': 'witch_doctor',\n",
    " 'radiant_hero_5': 'axe'\n",
    "}\n",
    "\n",
    "# making a df to store the heroes and teams\n",
    "test_game_df = pd.DataFrame()\n",
    "\n",
    "for key,value in hero_data.items():\n",
    "    test_game_df.loc[0,key] = value\n",
    "\n",
    "# replacing the empty hero selection with np.NaN so it can be removed easily\n",
    "test_game_df.replace(\"\",np.NaN,inplace=True)\n",
    "\n",
    "rad_heroes = ''\n",
    "dire_heroes = ''\n",
    "\n",
    "if test_game_df.isna().any().any():\n",
    "    test_game_df.dropna(axis=1,inplace=True)\n",
    "\n",
    "# creating the list of heroes on each team with r_ or d_ for whether the hero was on radiant or dire\n",
    "for x in test_game_df.columns:\n",
    "    if \"radiant\" in x:\n",
    "        rad_heroes += (' r_'+ test_game_df[x])\n",
    "    else:\n",
    "        dire_heroes += (' d_'+ test_game_df[x])\n",
    "\n",
    "# adding the hero lists to the dataframe with all the individual hero information        \n",
    "test_game_df['radiant'] = rad_heroes[0]\n",
    "test_game_df['dire'] = dire_heroes[0]\n",
    "\n",
    "# running count vectorizer on the hero lists for radiant and dire\n",
    "temp_rad_df = pd.DataFrame(rad_cvec.transform(test_game_df['radiant']).toarray() , columns = rad_cvec.get_feature_names())\n",
    "temp_dire_df = pd.DataFrame(dire_cvec.transform(test_game_df['dire']).toarray() , columns = dire_cvec.get_feature_names())\n",
    "\n",
    "# joining the radiaint and dire teams to create the final dataframe of 238 features\n",
    "temp_match_hero_df = pd.concat([temp_rad_df,temp_dire_df], axis=1)\n",
    "\n",
    "# scaling the dataframe\n",
    "X_team_sc = sc.transform(temp_match_hero_df)\n",
    "\n",
    "#generating the probability of winning for the indivial team\n",
    "probab = NN_model.predict_proba(X_team_sc)[0][0]\n",
    "\n",
    "# printing the probability of which team will win\n",
    "if NN_model.predict_classes(X_team_sc)[0][0] == 1:\n",
    "    print(f'Radiant is predicted to win with a {np.round(probab*100,4)}% chance')\n",
    "else:\n",
    "    print(f'Dire is predicted to win with a {np.round((1-probab)*100,4)}% chance')"
   ]
  },
  {
   "cell_type": "markdown",
   "metadata": {},
   "source": [
    "## Below is the code which recommends the 5 heroes that provide highest win probability"
   ]
  },
  {
   "cell_type": "code",
   "execution_count": 17,
   "metadata": {},
   "outputs": [],
   "source": [
    "# creating a list of hero names to run the model on\n",
    "data = {\n",
    "'dire_hero_1': 'tidehunter',\n",
    " 'dire_hero_2': 'lion',\n",
    " 'dire_hero_3': 'sniper',\n",
    " 'dire_hero_4': 'sven',\n",
    " 'dire_hero_5': '',\n",
    " 'radiant_hero_1': 'juggernaut',\n",
    " 'radiant_hero_2': 'drow_ranger',\n",
    " 'radiant_hero_3': 'dragon_knight',\n",
    " 'radiant_hero_4': 'witch_doctor',\n",
    " 'radiant_hero_5': 'axe'\n",
    "}\n",
    "\n",
    "# making a df to store the heroes and teams\n",
    "test_game_df = pd.DataFrame()\n",
    "\n",
    "for key,value in data.items():\n",
    "    test_game_df.loc[0,key] = value\n",
    "\n",
    "# replacing the empty hero selection with np.NaN so it can be removed easily\n",
    "test_game_df.replace(\"\",np.NaN,inplace=True)\n",
    "\n",
    "rad_heroes = ''\n",
    "dire_heroes = ''\n",
    "\n",
    "# remove the np.NaN column so the amount of heroes on one team is 4\n",
    "if test_game_df.isna().any().any():\n",
    "    test_game_df.dropna(axis=1,inplace=True)\n",
    "\n",
    "# creating the list of heroes on each team with r_ or d_ for whether the hero was on radiant or dire\n",
    "for x in test_game_df.columns:\n",
    "    if \"radiant\" in x:\n",
    "        rad_heroes += (' r_'+ test_game_df[x])\n",
    "    else:\n",
    "        dire_heroes += (' d_'+ test_game_df[x])\n",
    "\n",
    "test_game_df['radiant'] = rad_heroes[0]\n",
    "test_game_df['dire'] = dire_heroes[0]\n",
    "\n",
    "# creating a list of heroes that weren't on either team to run all possible teams\n",
    "unused_radiant_heroes_list = [x for x in rad_cvec.vocabulary_.keys() if (x[2:] not in rad_heroes.any().split(' r_')) and (x[2:] not in dire_heroes.any().split(' d_'))]\n",
    "unused_dire_heroes_list = [x for x in dire_cvec.vocabulary_.keys() if (x[2:] not in rad_heroes.any().split(' r_')) and (x[2:] not in dire_heroes.any().split(' d_'))]\n",
    "\n",
    "#creating a df to store the probabilities for each hero so they can be sorted later\n",
    "probabilities_df = pd.DataFrame()\n",
    "\n",
    "# when a radiant hero is missing the length is 4\n",
    "if (len(rad_heroes[0].split()) == 4) and (len(dire_heroes[0].split()) == 5):\n",
    "    #radiant team hero missing\n",
    "    \n",
    "    # generate the 119 features for the dire team\n",
    "    temp_dire_df = pd.DataFrame(dire_cvec.transform(test_game_df['dire']).toarray() , columns = dire_cvec.get_feature_names())\n",
    "    \n",
    "    # loop through the unused heroes to generate match probabilities\n",
    "    for hero in unused_radiant_heroes_list:\n",
    "        team = test_game_df['radiant'].values[0]\n",
    "        team += (' ' + hero)\n",
    "\n",
    "        test_game_df['radiant_team'] = team\n",
    "        \n",
    "        # for each unused hero, create the feature matrix for 119 columns\n",
    "        temp_rad_df = pd.DataFrame(rad_cvec.transform(test_game_df['radiant_team']).toarray() , columns = rad_cvec.get_feature_names())\n",
    "        temp_match_hero_df = pd.concat([temp_rad_df,temp_dire_df], axis=1)\n",
    "\n",
    "        X_team_sc = sc.transform(temp_match_hero_df)\n",
    "\n",
    "        # generate the probabilities of a specific team winning\n",
    "        probabilities_df.loc['prob',hero] = NN_model.predict_proba(X_team_sc)[0][0]\n",
    "\n",
    "    # sort the heroes by the 5 highest probabilities and save these to display later\n",
    "    pred = probabilities_df.T.sort_values(by='prob',ascending=False).head(5)\n",
    "\n",
    "# when a dire hero is missing the length is 4\n",
    "elif (len(rad_heroes[0].split()) == 5) and (len(dire_heroes[0].split()) == 4):\n",
    "    #dire team hero missing\n",
    "    temp_rad_df = pd.DataFrame(rad_cvec.transform(test_game_df['radiant']).toarray() , columns = rad_cvec.get_feature_names())\n",
    "\n",
    "    for hero in unused_dire_heroes_list:\n",
    "        team = test_game_df['dire'].values[0]\n",
    "        team += (' ' + hero)\n",
    "\n",
    "        test_game_df['dire_team'] = team\n",
    "        temp_dire_df = pd.DataFrame(dire_cvec.transform(test_game_df['dire_team']).toarray() , columns = dire_cvec.get_feature_names())\n",
    "        temp_match_hero_df = pd.concat([temp_rad_df,temp_dire_df], axis=1)\n",
    "\n",
    "        X_team_sc = sc.transform(temp_match_hero_df)\n",
    "\n",
    "        probabilities_df.loc['prob',hero] = (1-NN_model.predict_proba(X_team_sc)[0][0])\n",
    "\n",
    "    pred = probabilities_df.T.sort_values(by='prob',ascending=False).head(5)\n",
    "\n",
    "else:\n",
    "    pred = \"Please only have 1 missing hero\""
   ]
  },
  {
   "cell_type": "code",
   "execution_count": 18,
   "metadata": {},
   "outputs": [
    {
     "data": {
      "text/html": [
       "<div>\n",
       "<style scoped>\n",
       "    .dataframe tbody tr th:only-of-type {\n",
       "        vertical-align: middle;\n",
       "    }\n",
       "\n",
       "    .dataframe tbody tr th {\n",
       "        vertical-align: top;\n",
       "    }\n",
       "\n",
       "    .dataframe thead th {\n",
       "        text-align: right;\n",
       "    }\n",
       "</style>\n",
       "<table border=\"1\" class=\"dataframe\">\n",
       "  <thead>\n",
       "    <tr style=\"text-align: right;\">\n",
       "      <th></th>\n",
       "      <th>prob</th>\n",
       "    </tr>\n",
       "  </thead>\n",
       "  <tbody>\n",
       "    <tr>\n",
       "      <th>d_abyssal_underlord</th>\n",
       "      <td>0.433190</td>\n",
       "    </tr>\n",
       "    <tr>\n",
       "      <th>d_broodmother</th>\n",
       "      <td>0.419198</td>\n",
       "    </tr>\n",
       "    <tr>\n",
       "      <th>d_clinkz</th>\n",
       "      <td>0.416517</td>\n",
       "    </tr>\n",
       "    <tr>\n",
       "      <th>d_dark_seer</th>\n",
       "      <td>0.410720</td>\n",
       "    </tr>\n",
       "    <tr>\n",
       "      <th>d_chaos_knight</th>\n",
       "      <td>0.403618</td>\n",
       "    </tr>\n",
       "  </tbody>\n",
       "</table>\n",
       "</div>"
      ],
      "text/plain": [
       "                         prob\n",
       "d_abyssal_underlord  0.433190\n",
       "d_broodmother        0.419198\n",
       "d_clinkz             0.416517\n",
       "d_dark_seer          0.410720\n",
       "d_chaos_knight       0.403618"
      ]
     },
     "execution_count": 18,
     "metadata": {},
     "output_type": "execute_result"
    }
   ],
   "source": [
    "pred"
   ]
  },
  {
   "cell_type": "code",
   "execution_count": null,
   "metadata": {},
   "outputs": [],
   "source": []
  }
 ],
 "metadata": {
  "kernelspec": {
   "display_name": "Python 3",
   "language": "python",
   "name": "python3"
  },
  "language_info": {
   "codemirror_mode": {
    "name": "ipython",
    "version": 3
   },
   "file_extension": ".py",
   "mimetype": "text/x-python",
   "name": "python",
   "nbconvert_exporter": "python",
   "pygments_lexer": "ipython3",
   "version": "3.7.7"
  }
 },
 "nbformat": 4,
 "nbformat_minor": 4
}
