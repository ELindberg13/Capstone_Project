{
 "cells": [
  {
   "cell_type": "markdown",
   "metadata": {},
   "source": [
    "# Using a fNN to predict Dota 2 teams victory probability"
   ]
  },
  {
   "cell_type": "code",
   "execution_count": 17,
   "metadata": {},
   "outputs": [],
   "source": [
    "import numpy as np\n",
    "import pandas as pd\n",
    "import matplotlib.pyplot as plt\n",
    "import seaborn as sns\n",
    "import time\n",
    "import itertools\n",
    "\n",
    "import pickle\n",
    "import gzip\n",
    "\n",
    "from sklearn.model_selection import train_test_split\n",
    "from sklearn.preprocessing import StandardScaler\n",
    "from sklearn.feature_extraction.text import CountVectorizer\n",
    "\n",
    "from tensorflow.keras.models import Sequential, save_model\n",
    "from tensorflow.keras.layers import Dense, Dropout, GRU\n",
    "from tensorflow.keras.optimizers import Adam\n",
    "\n",
    "from sklearn.pipeline import Pipeline\n",
    "from sklearn.metrics import confusion_matrix"
   ]
  },
  {
   "cell_type": "code",
   "execution_count": 3,
   "metadata": {},
   "outputs": [
    {
     "data": {
      "text/plain": [
       "1    0.569456\n",
       "0    0.430544\n",
       "Name: winner, dtype: float64"
      ]
     },
     "execution_count": 3,
     "metadata": {},
     "output_type": "execute_result"
    }
   ],
   "source": [
    "# importing the cleaned match data\n",
    "match_df = pd.read_csv(\"../data/complete_match_df.csv\")\n",
    "\n",
    "rad_cvec = CountVectorizer()\n",
    "dire_cvec = CountVectorizer()\n",
    "rad_df = pd.DataFrame(rad_cvec.fit_transform(match_df['radiant']).toarray() , columns = rad_cvec.get_feature_names())\n",
    "dire_df = pd.DataFrame(dire_cvec.fit_transform(match_df['dire']).toarray() , columns = dire_cvec.get_feature_names())\n",
    "match_hero_df = pd.concat([rad_df,dire_df], axis=1)\n",
    "\n",
    "X = match_hero_df\n",
    "y = match_df['winner'].map({'radiant' : 1 , 'dire' : 0})\n",
    "\n",
    "X_train, X_test, y_train, y_test = train_test_split(X,y,test_size=0.25,random_state=2020)\n",
    "\n",
    "#Calculating the baseline accuracy of the data\n",
    "y_test.value_counts(normalize=True)"
   ]
  },
  {
   "cell_type": "code",
   "execution_count": 6,
   "metadata": {},
   "outputs": [],
   "source": [
    "sc = StandardScaler()\n",
    "X_train_sc = sc.fit_transform(X_train)\n",
    "X_test_sc = sc.transform(X_test)"
   ]
  },
  {
   "cell_type": "markdown",
   "metadata": {},
   "source": [
    "### Feed forward NN"
   ]
  },
  {
   "cell_type": "code",
   "execution_count": 18,
   "metadata": {
    "collapsed": true,
    "jupyter": {
     "outputs_hidden": true
    }
   },
   "outputs": [
    {
     "name": "stdout",
     "output_type": "stream",
     "text": [
      "Train on 67554 samples, validate on 22518 samples\n",
      "Epoch 1/50\n",
      "67554/67554 [==============================] - 5s 71us/sample - loss: 0.8545 - acc: 0.5181 - val_loss: 0.6917 - val_acc: 0.5693\n",
      "Epoch 2/50\n",
      "67554/67554 [==============================] - 5s 68us/sample - loss: 0.7024 - acc: 0.5420 - val_loss: 0.6901 - val_acc: 0.5695\n",
      "Epoch 3/50\n",
      "67554/67554 [==============================] - 5s 68us/sample - loss: 0.6919 - acc: 0.5574 - val_loss: 0.6885 - val_acc: 0.5695\n",
      "Epoch 4/50\n",
      "67554/67554 [==============================] - 5s 69us/sample - loss: 0.6873 - acc: 0.5670 - val_loss: 0.6870 - val_acc: 0.5695\n",
      "Epoch 5/50\n",
      "67554/67554 [==============================] - 5s 70us/sample - loss: 0.6864 - acc: 0.5683 - val_loss: 0.6869 - val_acc: 0.5695\n",
      "Epoch 6/50\n",
      "67554/67554 [==============================] - 5s 70us/sample - loss: 0.6847 - acc: 0.5698 - val_loss: 0.6857 - val_acc: 0.5695\n",
      "Epoch 7/50\n",
      "67554/67554 [==============================] - 5s 71us/sample - loss: 0.6840 - acc: 0.5720 - val_loss: 0.6842 - val_acc: 0.5695\n",
      "Epoch 8/50\n",
      "67554/67554 [==============================] - 5s 70us/sample - loss: 0.6833 - acc: 0.5722 - val_loss: 0.6851 - val_acc: 0.5695\n",
      "Epoch 9/50\n",
      "67554/67554 [==============================] - 5s 72us/sample - loss: 0.6830 - acc: 0.5721 - val_loss: 0.6845 - val_acc: 0.5695\n",
      "Epoch 10/50\n",
      "67554/67554 [==============================] - 5s 73us/sample - loss: 0.6827 - acc: 0.5723 - val_loss: 0.6838 - val_acc: 0.5695\n",
      "Epoch 11/50\n",
      "67554/67554 [==============================] - 5s 74us/sample - loss: 0.6819 - acc: 0.5731 - val_loss: 0.6836 - val_acc: 0.5695\n",
      "Epoch 12/50\n",
      "67554/67554 [==============================] - 5s 75us/sample - loss: 0.6820 - acc: 0.5728 - val_loss: 0.6828 - val_acc: 0.5695\n",
      "Epoch 13/50\n",
      "67554/67554 [==============================] - 5s 74us/sample - loss: 0.6813 - acc: 0.5725 - val_loss: 0.6825 - val_acc: 0.5695\n",
      "Epoch 14/50\n",
      "67554/67554 [==============================] - 5s 75us/sample - loss: 0.6806 - acc: 0.5731 - val_loss: 0.6822 - val_acc: 0.5695\n",
      "Epoch 15/50\n",
      "67554/67554 [==============================] - 5s 74us/sample - loss: 0.6805 - acc: 0.5728 - val_loss: 0.6815 - val_acc: 0.5695\n",
      "Epoch 16/50\n",
      "67554/67554 [==============================] - 5s 73us/sample - loss: 0.6802 - acc: 0.5731 - val_loss: 0.6809 - val_acc: 0.5695\n",
      "Epoch 17/50\n",
      "67554/67554 [==============================] - 5s 74us/sample - loss: 0.6794 - acc: 0.5733 - val_loss: 0.6800 - val_acc: 0.5695\n",
      "Epoch 18/50\n",
      "67554/67554 [==============================] - 5s 75us/sample - loss: 0.6782 - acc: 0.5730 - val_loss: 0.6786 - val_acc: 0.5695\n",
      "Epoch 19/50\n",
      "67554/67554 [==============================] - 5s 76us/sample - loss: 0.6777 - acc: 0.5733 - val_loss: 0.6771 - val_acc: 0.5695\n",
      "Epoch 20/50\n",
      "67554/67554 [==============================] - 5s 74us/sample - loss: 0.6765 - acc: 0.5736 - val_loss: 0.6768 - val_acc: 0.5695\n",
      "Epoch 21/50\n",
      "67554/67554 [==============================] - 5s 74us/sample - loss: 0.6755 - acc: 0.5735 - val_loss: 0.6757 - val_acc: 0.5695\n",
      "Epoch 22/50\n",
      "67554/67554 [==============================] - 5s 78us/sample - loss: 0.6752 - acc: 0.5729 - val_loss: 0.6754 - val_acc: 0.5695\n",
      "Epoch 23/50\n",
      "67554/67554 [==============================] - 5s 81us/sample - loss: 0.6731 - acc: 0.5738 - val_loss: 0.6723 - val_acc: 0.5695\n",
      "Epoch 24/50\n",
      "67554/67554 [==============================] - 6s 84us/sample - loss: 0.6728 - acc: 0.5754 - val_loss: 0.6739 - val_acc: 0.5759\n",
      "Epoch 25/50\n",
      "67554/67554 [==============================] - 6s 82us/sample - loss: 0.6727 - acc: 0.5773 - val_loss: 0.6730 - val_acc: 0.5803\n",
      "Epoch 26/50\n",
      "67554/67554 [==============================] - 5s 76us/sample - loss: 0.6715 - acc: 0.5780 - val_loss: 0.6722 - val_acc: 0.5841\n",
      "Epoch 27/50\n",
      "67554/67554 [==============================] - 5s 76us/sample - loss: 0.6711 - acc: 0.5821 - val_loss: 0.6731 - val_acc: 0.5875\n",
      "Epoch 28/50\n",
      "67554/67554 [==============================] - 5s 75us/sample - loss: 0.6701 - acc: 0.5831 - val_loss: 0.6742 - val_acc: 0.5893\n",
      "Epoch 29/50\n",
      "67554/67554 [==============================] - 5s 74us/sample - loss: 0.6706 - acc: 0.5834 - val_loss: 0.6702 - val_acc: 0.5882\n",
      "Epoch 30/50\n",
      "67554/67554 [==============================] - 5s 76us/sample - loss: 0.6699 - acc: 0.5862 - val_loss: 0.6732 - val_acc: 0.5894\n",
      "Epoch 31/50\n",
      "67554/67554 [==============================] - 5s 77us/sample - loss: 0.6692 - acc: 0.5895 - val_loss: 0.6712 - val_acc: 0.5890\n",
      "Epoch 32/50\n",
      "67554/67554 [==============================] - 5s 74us/sample - loss: 0.6696 - acc: 0.5882 - val_loss: 0.6725 - val_acc: 0.5886\n",
      "Epoch 33/50\n",
      "67554/67554 [==============================] - 5s 76us/sample - loss: 0.6683 - acc: 0.5886 - val_loss: 0.6726 - val_acc: 0.5884\n",
      "Epoch 34/50\n",
      "67554/67554 [==============================] - 5s 75us/sample - loss: 0.6678 - acc: 0.5911 - val_loss: 0.6753 - val_acc: 0.5878\n",
      "Epoch 35/50\n",
      "67554/67554 [==============================] - 5s 75us/sample - loss: 0.6678 - acc: 0.5924 - val_loss: 0.6721 - val_acc: 0.5887\n",
      "Epoch 36/50\n",
      "67554/67554 [==============================] - 5s 78us/sample - loss: 0.6664 - acc: 0.5944 - val_loss: 0.6730 - val_acc: 0.5894\n",
      "Epoch 37/50\n",
      "67554/67554 [==============================] - 5s 76us/sample - loss: 0.6666 - acc: 0.5921 - val_loss: 0.6704 - val_acc: 0.5883\n",
      "Epoch 38/50\n",
      "67554/67554 [==============================] - 5s 74us/sample - loss: 0.6659 - acc: 0.5942 - val_loss: 0.6712 - val_acc: 0.5897\n",
      "Epoch 39/50\n",
      "67554/67554 [==============================] - 5s 78us/sample - loss: 0.6660 - acc: 0.5950 - val_loss: 0.6703 - val_acc: 0.5905\n",
      "Epoch 40/50\n",
      "67554/67554 [==============================] - 5s 77us/sample - loss: 0.6660 - acc: 0.5969 - val_loss: 0.6719 - val_acc: 0.5905\n",
      "Epoch 41/50\n",
      "67554/67554 [==============================] - 5s 78us/sample - loss: 0.6651 - acc: 0.5961 - val_loss: 0.6697 - val_acc: 0.5902\n",
      "Epoch 42/50\n",
      "67554/67554 [==============================] - 5s 77us/sample - loss: 0.6645 - acc: 0.5989 - val_loss: 0.6704 - val_acc: 0.5898\n",
      "Epoch 43/50\n",
      "67554/67554 [==============================] - 5s 77us/sample - loss: 0.6646 - acc: 0.5965 - val_loss: 0.6723 - val_acc: 0.5894\n",
      "Epoch 44/50\n",
      "67554/67554 [==============================] - 5s 77us/sample - loss: 0.6642 - acc: 0.5987 - val_loss: 0.6710 - val_acc: 0.5897\n",
      "Epoch 45/50\n",
      "67554/67554 [==============================] - 5s 74us/sample - loss: 0.6631 - acc: 0.6006 - val_loss: 0.6711 - val_acc: 0.5897\n",
      "Epoch 46/50\n",
      "67554/67554 [==============================] - 5s 75us/sample - loss: 0.6640 - acc: 0.5995 - val_loss: 0.6721 - val_acc: 0.5892\n",
      "Epoch 47/50\n",
      "67554/67554 [==============================] - 5s 76us/sample - loss: 0.6627 - acc: 0.6007 - val_loss: 0.6724 - val_acc: 0.5902\n",
      "Epoch 48/50\n",
      "67554/67554 [==============================] - 5s 76us/sample - loss: 0.6628 - acc: 0.6018 - val_loss: 0.6715 - val_acc: 0.5902\n",
      "Epoch 49/50\n",
      "67554/67554 [==============================] - 5s 78us/sample - loss: 0.6624 - acc: 0.6013 - val_loss: 0.6729 - val_acc: 0.5896\n",
      "Epoch 50/50\n",
      "67554/67554 [==============================] - 5s 75us/sample - loss: 0.6615 - acc: 0.6037 - val_loss: 0.6709 - val_acc: 0.5902\n"
     ]
    }
   ],
   "source": [
    "model_fNN = Sequential()\n",
    "\n",
    "model_fNN.add(Dense(238, activation='relu', input_shape=(X_train.shape[1],)))\n",
    "model_fNN.add(Dropout(0.85))\n",
    "\n",
    "model_fNN.add(Dense(512, activation='relu'))\n",
    "model_fNN.add(Dropout(0.85))\n",
    "\n",
    "model_fNN.add(Dense(32, activation='relu'))\n",
    "model_fNN.add(Dropout(0.1))\n",
    "\n",
    "model_fNN.add(Dense(1, activation='sigmoid'))\n",
    "\n",
    "model_fNN.compile(loss='binary_crossentropy',optimizer='adam',metrics=['accuracy'])\n",
    "\n",
    "history_fNN = model_fNN.fit(X_train_sc, y_train, epochs=50,batch_size=1024,validation_data=(X_test_sc, y_test))"
   ]
  },
  {
   "cell_type": "code",
   "execution_count": 19,
   "metadata": {},
   "outputs": [
    {
     "data": {
      "image/png": "[encoded data removed]",
      "text/plain": [
       "<Figure size 432x288 with 1 Axes>"
      ]
     },
     "metadata": {
      "needs_background": "light"
     },
     "output_type": "display_data"
    }
   ],
   "source": [
    "plt.plot(history_fNN.history['acc'], label=\"Training Acc\")\n",
    "plt.plot(history_fNN.history['val_acc'], label=\"Testing Acc\")\n",
    "plt.legend();"
   ]
  },
  {
   "cell_type": "markdown",
   "metadata": {},
   "source": [
    "0.593 accuracy is the best accuracy (about 2.5% better accuracy from the uneven baseline)"
   ]
  },
  {
   "cell_type": "code",
   "execution_count": 20,
   "metadata": {},
   "outputs": [],
   "source": [
    "#saving the NN to be used as a hero recommender\n",
    "model_fNN.save(\"../data/NN_model/NN_model\")"
   ]
  },
  {
   "cell_type": "code",
   "execution_count": 9,
   "metadata": {},
   "outputs": [],
   "source": [
    "NN_preds = model_fNN.predict_classes(X_test)"
   ]
  },
  {
   "cell_type": "code",
   "execution_count": 19,
   "metadata": {},
   "outputs": [],
   "source": [
    "# found plot confusion matrix function at https://deeplizard.com/learn/video/km7pxKy4UHU\n",
    "def plot_confusion_matrix(cm, classes,\n",
    "                        normalize=False,\n",
    "                        title='Confusion matrix',\n",
    "                        cmap=plt.cm.Blues):\n",
    "    \"\"\"\n",
    "    This function prints and plots the confusion matrix.\n",
    "    Normalization can be applied by setting `normalize=True`.\n",
    "    \"\"\"\n",
    "    plt.imshow(cm, interpolation='nearest', cmap=cmap)\n",
    "    plt.title(title)\n",
    "    plt.colorbar()\n",
    "    tick_marks = np.arange(len(classes))\n",
    "    plt.xticks(tick_marks, classes, rotation=45)\n",
    "    plt.yticks(tick_marks, classes)\n",
    "\n",
    "    if normalize:\n",
    "        cm = cm.astype('float') / cm.sum(axis=1)[:, np.newaxis]\n",
    "        print(\"Normalized confusion matrix\")\n",
    "    else:\n",
    "        print('Confusion matrix, without normalization')\n",
    "\n",
    "    print(cm)\n",
    "\n",
    "    thresh = cm.max() / 2.\n",
    "    for i, j in itertools.product(range(cm.shape[0]), range(cm.shape[1])):\n",
    "        plt.text(j, i, cm[i, j],\n",
    "            horizontalalignment=\"center\",\n",
    "            color=\"white\" if cm[i, j] > thresh else \"black\")\n",
    "\n",
    "    plt.tight_layout()\n",
    "    plt.ylabel('True label')\n",
    "    plt.xlabel('Predicted label')"
   ]
  },
  {
   "cell_type": "code",
   "execution_count": 20,
   "metadata": {},
   "outputs": [
    {
     "name": "stdout",
     "output_type": "stream",
     "text": [
      "Confusion matrix, without normalization\n",
      "[[ 8698   997]\n",
      " [10394  2429]]\n"
     ]
    },
    {
     "data": {
      "image/png": "[encoded data removed]",
      "text/plain": [
       "<Figure size 864x720 with 2 Axes>"
      ]
     },
     "metadata": {
      "needs_background": "light"
     },
     "output_type": "display_data"
    }
   ],
   "source": [
    "#generate confusion matrix values from Naive Bayes\n",
    "cm = confusion_matrix(y_test,NN_preds)\n",
    "plt.figure(figsize=(12,10))\n",
    "plt.rcParams.update({'font.size': 15})\n",
    "plot_confusion_matrix(cm=cm, classes=[\"Radiant\",\"Dire\"]);"
   ]
  },
  {
   "cell_type": "markdown",
   "metadata": {},
   "source": [
    "As expected the NN model predicts radiant a very large percentage of the time."
   ]
  },
  {
   "cell_type": "markdown",
   "metadata": {},
   "source": [
    "More data is need to provide more information to better predict Dire wins"
   ]
  }
 ],
 "metadata": {
  "kernelspec": {
   "display_name": "Python 3",
   "language": "python",
   "name": "python3"
  },
  "language_info": {
   "codemirror_mode": {
    "name": "ipython",
    "version": 3
   },
   "file_extension": ".py",
   "mimetype": "text/x-python",
   "name": "python",
   "nbconvert_exporter": "python",
   "pygments_lexer": "ipython3",
   "version": "3.7.7"
  }
 },
 "nbformat": 4,
 "nbformat_minor": 4
}
