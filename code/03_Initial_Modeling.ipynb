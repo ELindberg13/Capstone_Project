{
 "cells": [
  {
   "cell_type": "markdown",
   "metadata": {},
   "source": [
    "# Initial Modeling"
   ]
  },
  {
   "cell_type": "markdown",
   "metadata": {},
   "source": [
    "Using just the hero predictions from 100,000 matches, try and predict which set of 5 heroes will win "
   ]
  },
  {
   "cell_type": "code",
   "execution_count": 1,
   "metadata": {},
   "outputs": [],
   "source": [
    "import numpy as np\n",
    "import pandas as pd\n",
    "import matplotlib.pyplot as plt\n",
    "import seaborn as sns\n",
    "import time\n",
    "\n",
    "from sklearn.model_selection import train_test_split, GridSearchCV\n",
    "from sklearn.linear_model import LogisticRegression\n",
    "\n",
    "from sklearn.naive_bayes import MultinomialNB\n",
    "\n",
    "from sklearn.neighbors import KNeighborsClassifier\n",
    "from sklearn.preprocessing import StandardScaler, OneHotEncoder\n",
    "from sklearn.feature_extraction.text import CountVectorizer\n",
    "\n",
    "from sklearn.pipeline import Pipeline\n",
    "from sklearn.metrics import confusion_matrix, plot_confusion_matrix"
   ]
  },
  {
   "cell_type": "code",
   "execution_count": 2,
   "metadata": {},
   "outputs": [],
   "source": [
    "# importing the cleaned match data\n",
    "match_df = pd.read_csv(\"../data/complete_match_df.csv\")"
   ]
  },
  {
   "cell_type": "markdown",
   "metadata": {},
   "source": [
    "### Using count vectorizer to create the feature columns for each match\n",
    "Each match has 5 heroes for each team (which are denoted with 1, the other 114 options are 0)"
   ]
  },
  {
   "cell_type": "markdown",
   "metadata": {},
   "source": [
    "This vectorization is done for both radiant and dire teams resulting in a feature matrix of 238 features"
   ]
  },
  {
   "cell_type": "code",
   "execution_count": 3,
   "metadata": {},
   "outputs": [],
   "source": [
    "rad_cvec = CountVectorizer()\n",
    "dire_cvec = CountVectorizer()\n",
    "rad_df = pd.DataFrame(rad_cvec.fit_transform(match_df['radiant']).toarray() , columns = rad_cvec.get_feature_names())\n",
    "dire_df = pd.DataFrame(dire_cvec.fit_transform(match_df['dire']).toarray() , columns = dire_cvec.get_feature_names())\n",
    "match_hero_df = pd.concat([rad_df,dire_df], axis=1)"
   ]
  },
  {
   "cell_type": "code",
   "execution_count": 4,
   "metadata": {},
   "outputs": [],
   "source": [
    "X = match_hero_df\n",
    "y = match_df['winner'].map({'radiant' : 1 , 'dire' : 0})"
   ]
  },
  {
   "cell_type": "code",
   "execution_count": 16,
   "metadata": {},
   "outputs": [
    {
     "data": {
      "text/plain": [
       "1    0.572387\n",
       "0    0.427613\n",
       "Name: winner, dtype: float64"
      ]
     },
     "execution_count": 16,
     "metadata": {},
     "output_type": "execute_result"
    }
   ],
   "source": [
    "X_train, X_test, y_train, y_test = train_test_split(X,y,test_size=0.25,random_state=2020,stratify=y)\n",
    "\n",
    "#Calculating the baseline accuracy of the data\n",
    "y_test.value_counts(normalize=True)"
   ]
  },
  {
   "cell_type": "markdown",
   "metadata": {},
   "source": [
    "The baseline of the model is radiant wins 58% of the time. This is interesting as the developers try and make the game as balanced as possible but there is an 8% increase in winning just by being randomly assigned to the radiant team"
   ]
  },
  {
   "cell_type": "markdown",
   "metadata": {},
   "source": [
    "### Fitting using Logistic Regressiton in a pipeline"
   ]
  },
  {
   "cell_type": "code",
   "execution_count": 17,
   "metadata": {},
   "outputs": [],
   "source": [
    "# Used to create dictionary of model params and counter\n",
    "logreg_model_df = pd.read_csv(\"../data/logreg_model_params.csv\")\n",
    "\n",
    "#getting the index from the nb_model_params and saving it to a count\n",
    "logreg_count = logreg_model_df.tail(1).index.values[0]\n"
   ]
  },
  {
   "cell_type": "code",
   "execution_count": 18,
   "metadata": {},
   "outputs": [
    {
     "name": "stdout",
     "output_type": "stream",
     "text": [
      "Fitting 5 folds for each of 8 candidates, totalling 40 fits\n"
     ]
    },
    {
     "name": "stderr",
     "output_type": "stream",
     "text": [
      "[Parallel(n_jobs=1)]: Using backend SequentialBackend with 1 concurrent workers.\n",
      "[Parallel(n_jobs=1)]: Done  40 out of  40 | elapsed:   27.0s finished\n"
     ]
    },
    {
     "name": "stdout",
     "output_type": "stream",
     "text": [
      "This took 27.798034191131592 seconds!\n"
     ]
    },
    {
     "data": {
      "text/html": [
       "<div>\n",
       "<style scoped>\n",
       "    .dataframe tbody tr th:only-of-type {\n",
       "        vertical-align: middle;\n",
       "    }\n",
       "\n",
       "    .dataframe tbody tr th {\n",
       "        vertical-align: top;\n",
       "    }\n",
       "\n",
       "    .dataframe thead th {\n",
       "        text-align: right;\n",
       "    }\n",
       "</style>\n",
       "<table border=\"1\" class=\"dataframe\">\n",
       "  <thead>\n",
       "    <tr style=\"text-align: right;\">\n",
       "      <th></th>\n",
       "      <th>logreg__C</th>\n",
       "      <th>train score</th>\n",
       "      <th>test score</th>\n",
       "      <th>logreg__penalty</th>\n",
       "    </tr>\n",
       "  </thead>\n",
       "  <tbody>\n",
       "    <tr>\n",
       "      <th>0</th>\n",
       "      <td>10.00</td>\n",
       "      <td>0.610657</td>\n",
       "      <td>0.600603</td>\n",
       "      <td>NaN</td>\n",
       "    </tr>\n",
       "    <tr>\n",
       "      <th>1</th>\n",
       "      <td>0.10</td>\n",
       "      <td>0.598307</td>\n",
       "      <td>0.589972</td>\n",
       "      <td>NaN</td>\n",
       "    </tr>\n",
       "    <tr>\n",
       "      <th>2</th>\n",
       "      <td>0.01</td>\n",
       "      <td>0.598010</td>\n",
       "      <td>0.588907</td>\n",
       "      <td>l2</td>\n",
       "    </tr>\n",
       "    <tr>\n",
       "      <th>model_3</th>\n",
       "      <td>0.01</td>\n",
       "      <td>0.599668</td>\n",
       "      <td>0.589750</td>\n",
       "      <td>l2</td>\n",
       "    </tr>\n",
       "  </tbody>\n",
       "</table>\n",
       "</div>"
      ],
      "text/plain": [
       "         logreg__C  train score  test score logreg__penalty\n",
       "0            10.00     0.610657    0.600603             NaN\n",
       "1             0.10     0.598307    0.589972             NaN\n",
       "2             0.01     0.598010    0.588907              l2\n",
       "model_3       0.01     0.599668    0.589750              l2"
      ]
     },
     "execution_count": 18,
     "metadata": {},
     "output_type": "execute_result"
    }
   ],
   "source": [
    "logreg_pipe = Pipeline([\n",
    "    ('logreg', LogisticRegression(solver=\"liblinear\"))\n",
    "])\n",
    "\n",
    "logreg_pipe_params = {\n",
    "    \"logreg__penalty\" : [\"l1\",\"l2\"],\n",
    "    \"logreg__C\" : [0.01,.1,10,100]\n",
    "}\n",
    "\n",
    "temp_dict = {}\n",
    "t0 = time.time()\n",
    "\n",
    "logreg_gs = GridSearchCV(logreg_pipe,param_grid=logreg_pipe_params,cv=5,verbose=1)\n",
    "\n",
    "logreg_gs.fit(X_train,y_train)\n",
    "\n",
    "best_logreg = logreg_gs.best_estimator_\n",
    "\n",
    "logreg_count += 1\n",
    "\n",
    "logreg_gs.best_params_[\"train score\"] = best_logreg.score(X_train,y_train)\n",
    "logreg_gs.best_params_[\"test score\"] = best_logreg.score(X_test,y_test)\n",
    "temp_dict[f'model_{logreg_count}'] = logreg_gs.best_params_\n",
    "\n",
    "temp_df = pd.DataFrame.from_dict(temp_dict, orient='index')\n",
    "logreg_model_df = pd.concat([logreg_model_df,temp_df])\n",
    "\n",
    "t1 = time.time()\n",
    "print(f'This took {t1-t0} seconds!')\n",
    "\n",
    "logreg_model_df"
   ]
  },
  {
   "cell_type": "code",
   "execution_count": 19,
   "metadata": {},
   "outputs": [],
   "source": [
    "logreg_model_df.to_csv(\"../data/logreg_model_params.csv\",index=False)"
   ]
  },
  {
   "cell_type": "code",
   "execution_count": 20,
   "metadata": {},
   "outputs": [],
   "source": [
    "log_preds = best_logreg.predict(X_test)"
   ]
  },
  {
   "cell_type": "code",
   "execution_count": 21,
   "metadata": {},
   "outputs": [
    {
     "data": {
      "text/plain": [
       "<Figure size 864x720 with 0 Axes>"
      ]
     },
     "metadata": {},
     "output_type": "display_data"
    },
    {
     "data": {
      "image/png": "[encoded data removed]",
      "text/plain": [
       "<Figure size 432x288 with 2 Axes>"
      ]
     },
     "metadata": {
      "needs_background": "light"
     },
     "output_type": "display_data"
    }
   ],
   "source": [
    "#generate confusion matrix values from logistic regression\n",
    "tn,fp,fn,tp = confusion_matrix(y_test,log_preds).ravel()\n",
    "plt.figure(figsize=(12,10))\n",
    "plt.rcParams.update({'font.size': 15})\n",
    "plot_confusion_matrix(best_logreg, X_test, y_test, cmap='Blues', values_format='d',display_labels=[\"Radiant\",\"Dire\"]);"
   ]
  },
  {
   "cell_type": "markdown",
   "metadata": {},
   "source": [
    "# Naive Bayes"
   ]
  },
  {
   "cell_type": "code",
   "execution_count": 22,
   "metadata": {},
   "outputs": [],
   "source": [
    "# Used to create dictionary of model params and counter\n",
    "# nb_model_df = pd.read_csv(\"../data/nb_model_para.csv\")\n",
    "nb_model_df = pd.DataFrame()"
   ]
  },
  {
   "cell_type": "code",
   "execution_count": 23,
   "metadata": {},
   "outputs": [],
   "source": [
    "#getting the index from the nb_model_params and saving it to a count\n",
    "# nb_count = nb_model_df.tail(1).index.values[0]\n",
    "nb_count = 0"
   ]
  },
  {
   "cell_type": "code",
   "execution_count": 11,
   "metadata": {},
   "outputs": [
    {
     "name": "stdout",
     "output_type": "stream",
     "text": [
      "Fitting 5 folds for each of 1 candidates, totalling 5 fits\n"
     ]
    },
    {
     "name": "stderr",
     "output_type": "stream",
     "text": [
      "[Parallel(n_jobs=1)]: Using backend SequentialBackend with 1 concurrent workers.\n",
      "[Parallel(n_jobs=1)]: Done   5 out of   5 | elapsed:    1.1s finished\n"
     ]
    },
    {
     "name": "stdout",
     "output_type": "stream",
     "text": [
      "This took 1.621227502822876 seconds!\n"
     ]
    },
    {
     "data": {
      "text/html": [
       "<div>\n",
       "<style scoped>\n",
       "    .dataframe tbody tr th:only-of-type {\n",
       "        vertical-align: middle;\n",
       "    }\n",
       "\n",
       "    .dataframe tbody tr th {\n",
       "        vertical-align: top;\n",
       "    }\n",
       "\n",
       "    .dataframe thead th {\n",
       "        text-align: right;\n",
       "    }\n",
       "</style>\n",
       "<table border=\"1\" class=\"dataframe\">\n",
       "  <thead>\n",
       "    <tr style=\"text-align: right;\">\n",
       "      <th></th>\n",
       "      <th>train score</th>\n",
       "      <th>test score</th>\n",
       "    </tr>\n",
       "  </thead>\n",
       "  <tbody>\n",
       "    <tr>\n",
       "      <th>model_1</th>\n",
       "      <td>0.597566</td>\n",
       "      <td>0.588685</td>\n",
       "    </tr>\n",
       "  </tbody>\n",
       "</table>\n",
       "</div>"
      ],
      "text/plain": [
       "         train score  test score\n",
       "model_1     0.597566    0.588685"
      ]
     },
     "execution_count": 11,
     "metadata": {},
     "output_type": "execute_result"
    }
   ],
   "source": [
    "temp_dict = {}\n",
    "t0 = time.time()\n",
    "nb_pipe = Pipeline([\n",
    "    ('nb', MultinomialNB())\n",
    "])\n",
    "\n",
    "nb_pipe_params = {\n",
    "}\n",
    "\n",
    "nb_gs = GridSearchCV(nb_pipe,param_grid=nb_pipe_params,cv=5,verbose=1)\n",
    "nb_gs.fit(X_train,y_train)\n",
    "\n",
    "best_nb = nb_gs.best_estimator_\n",
    "\n",
    "nb_count += 1\n",
    "\n",
    "nb_gs.best_params_[\"train score\"] = best_nb.score(X_train,y_train)\n",
    "nb_gs.best_params_[\"test score\"] = best_nb.score(X_test,y_test)\n",
    "temp_dict[f'model_{nb_count}'] = nb_gs.best_params_\n",
    "\n",
    "temp_df = pd.DataFrame.from_dict(temp_dict, orient='index')\n",
    "nb_model_df = pd.concat([nb_model_df,temp_df])\n",
    "\n",
    "t1 = time.time()\n",
    "print(f'This took {t1-t0} seconds!')\n",
    "\n",
    "nb_model_df"
   ]
  },
  {
   "cell_type": "code",
   "execution_count": 12,
   "metadata": {},
   "outputs": [],
   "source": [
    "nb_model_df.to_csv(\"../data/nb_model_para.csv\",index=False)"
   ]
  },
  {
   "cell_type": "code",
   "execution_count": 24,
   "metadata": {},
   "outputs": [],
   "source": [
    "nb_preds = best_nb.predict(X_test)"
   ]
  },
  {
   "cell_type": "code",
   "execution_count": 25,
   "metadata": {},
   "outputs": [
    {
     "data": {
      "text/plain": [
       "<Figure size 864x720 with 0 Axes>"
      ]
     },
     "metadata": {},
     "output_type": "display_data"
    },
    {
     "data": {
      "image/png": "[encoded data removed]",
      "text/plain": [
       "<Figure size 432x288 with 2 Axes>"
      ]
     },
     "metadata": {
      "needs_background": "light"
     },
     "output_type": "display_data"
    }
   ],
   "source": [
    "#generate confusion matrix values from Naive Bayes\n",
    "tn,fp,fn,tp = confusion_matrix(y_test,nb_preds).ravel()\n",
    "plt.figure(figsize=(12,10))\n",
    "plt.rcParams.update({'font.size': 15})\n",
    "plot_confusion_matrix(best_nb, X_test, y_test, cmap='Blues', values_format='d',display_labels=[\"Radiant\",\"Dire\"]);"
   ]
  },
  {
   "cell_type": "code",
   "execution_count": null,
   "metadata": {},
   "outputs": [],
   "source": []
  }
 ],
 "metadata": {
  "kernelspec": {
   "display_name": "Python 3",
   "language": "python",
   "name": "python3"
  },
  "language_info": {
   "codemirror_mode": {
    "name": "ipython",
    "version": 3
   },
   "file_extension": ".py",
   "mimetype": "text/x-python",
   "name": "python",
   "nbconvert_exporter": "python",
   "pygments_lexer": "ipython3",
   "version": "3.7.7"
  }
 },
 "nbformat": 4,
 "nbformat_minor": 4
}
