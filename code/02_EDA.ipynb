{
 "cells": [
  {
   "cell_type": "markdown",
   "metadata": {},
   "source": [
    "# EDA of Dota2 Match Data"
   ]
  },
  {
   "cell_type": "markdown",
   "metadata": {},
   "source": [
    "Cleaned the Dota 2 match data by removing games that are too short and removed games of the wrong lobby type"
   ]
  },
  {
   "cell_type": "code",
   "execution_count": 1,
   "metadata": {},
   "outputs": [],
   "source": [
    "import numpy as np\n",
    "import pandas as pd\n",
    "import matplotlib.pyplot as plt\n",
    "import seaborn as sns\n",
    "\n",
    "import d2api"
   ]
  },
  {
   "cell_type": "code",
   "execution_count": 2,
   "metadata": {},
   "outputs": [],
   "source": [
    "APIKey_file = open(r'C:/Users/Erik/Desktop/steam_web_API.txt', 'r')"
   ]
  },
  {
   "cell_type": "code",
   "execution_count": 3,
   "metadata": {},
   "outputs": [],
   "source": [
    "# overrides the environment variable key\n",
    "api = d2api.APIWrapper(APIKey_file.readline())"
   ]
  },
  {
   "cell_type": "code",
   "execution_count": 4,
   "metadata": {},
   "outputs": [
    {
     "data": {
      "text/plain": [
       "101372"
      ]
     },
     "execution_count": 4,
     "metadata": {},
     "output_type": "execute_result"
    }
   ],
   "source": [
    "# Reading in the collected match data \n",
    "df_match_and_details = pd.read_csv('../data/df_match_and_details.csv')\n",
    "complete_match_list = df_match_and_details['match'].tolist()\n",
    "len(complete_match_list)"
   ]
  },
  {
   "cell_type": "code",
   "execution_count": 5,
   "metadata": {},
   "outputs": [
    {
     "data": {
      "text/html": [
       "<div>\n",
       "<style scoped>\n",
       "    .dataframe tbody tr th:only-of-type {\n",
       "        vertical-align: middle;\n",
       "    }\n",
       "\n",
       "    .dataframe tbody tr th {\n",
       "        vertical-align: top;\n",
       "    }\n",
       "\n",
       "    .dataframe thead th {\n",
       "        text-align: right;\n",
       "    }\n",
       "</style>\n",
       "<table border=\"1\" class=\"dataframe\">\n",
       "  <thead>\n",
       "    <tr style=\"text-align: right;\">\n",
       "      <th></th>\n",
       "      <th>match</th>\n",
       "      <th>start_time</th>\n",
       "      <th>game_mode</th>\n",
       "      <th>lobby_type</th>\n",
       "      <th>duration</th>\n",
       "      <th>winner</th>\n",
       "      <th>radient_player_1</th>\n",
       "      <th>radient_player_2</th>\n",
       "      <th>radient_player_3</th>\n",
       "      <th>radient_player_4</th>\n",
       "      <th>radient_player_5</th>\n",
       "      <th>dire_player_1</th>\n",
       "      <th>dire_player_2</th>\n",
       "      <th>dire_player_3</th>\n",
       "      <th>dire_player_4</th>\n",
       "      <th>dire_player_5</th>\n",
       "    </tr>\n",
       "  </thead>\n",
       "  <tbody>\n",
       "    <tr>\n",
       "      <th>0</th>\n",
       "      <td>5617764354</td>\n",
       "      <td>1600297049</td>\n",
       "      <td>22</td>\n",
       "      <td>7</td>\n",
       "      <td>1038</td>\n",
       "      <td>dire</td>\n",
       "      <td>Hero(hero_id = 8)</td>\n",
       "      <td>Hero(hero_id = 105)</td>\n",
       "      <td>Hero(hero_id = 86)</td>\n",
       "      <td>Hero(hero_id = 11)</td>\n",
       "      <td>Hero(hero_id = 98)</td>\n",
       "      <td>Hero(hero_id = 110)</td>\n",
       "      <td>Hero(hero_id = 46)</td>\n",
       "      <td>Hero(hero_id = 19)</td>\n",
       "      <td>Hero(hero_id = 44)</td>\n",
       "      <td>Hero(hero_id = 38)</td>\n",
       "    </tr>\n",
       "    <tr>\n",
       "      <th>1</th>\n",
       "      <td>5617764355</td>\n",
       "      <td>1600297049</td>\n",
       "      <td>23</td>\n",
       "      <td>0</td>\n",
       "      <td>1518</td>\n",
       "      <td>dire</td>\n",
       "      <td>Hero(hero_id = 40)</td>\n",
       "      <td>Hero(hero_id = 19)</td>\n",
       "      <td>Hero(hero_id = 54)</td>\n",
       "      <td>Hero(hero_id = 69)</td>\n",
       "      <td>Hero(hero_id = 105)</td>\n",
       "      <td>Hero(hero_id = 70)</td>\n",
       "      <td>Hero(hero_id = 93)</td>\n",
       "      <td>Hero(hero_id = 51)</td>\n",
       "      <td>Hero(hero_id = 86)</td>\n",
       "      <td>Hero(hero_id = 58)</td>\n",
       "    </tr>\n",
       "    <tr>\n",
       "      <th>2</th>\n",
       "      <td>5617756164</td>\n",
       "      <td>1600296132</td>\n",
       "      <td>22</td>\n",
       "      <td>7</td>\n",
       "      <td>1997</td>\n",
       "      <td>radiant</td>\n",
       "      <td>Hero(hero_id = 5)</td>\n",
       "      <td>Hero(hero_id = 36)</td>\n",
       "      <td>Hero(hero_id = 13)</td>\n",
       "      <td>Hero(hero_id = 14)</td>\n",
       "      <td>Hero(hero_id = 41)</td>\n",
       "      <td>Hero(hero_id = 126)</td>\n",
       "      <td>Hero(hero_id = 84)</td>\n",
       "      <td>Hero(hero_id = 10)</td>\n",
       "      <td>Hero(hero_id = 100)</td>\n",
       "      <td>Hero(hero_id = 21)</td>\n",
       "    </tr>\n",
       "    <tr>\n",
       "      <th>3</th>\n",
       "      <td>5617754116</td>\n",
       "      <td>1600295927</td>\n",
       "      <td>22</td>\n",
       "      <td>0</td>\n",
       "      <td>1926</td>\n",
       "      <td>radiant</td>\n",
       "      <td>Hero(hero_id = 60)</td>\n",
       "      <td>Hero(hero_id = 15)</td>\n",
       "      <td>Hero(hero_id = 34)</td>\n",
       "      <td>Hero(hero_id = 104)</td>\n",
       "      <td>Hero(hero_id = 107)</td>\n",
       "      <td>Hero(hero_id = 65)</td>\n",
       "      <td>Hero(hero_id = 70)</td>\n",
       "      <td>Hero(hero_id = 126)</td>\n",
       "      <td>Hero(hero_id = 31)</td>\n",
       "      <td>Hero(hero_id = 108)</td>\n",
       "    </tr>\n",
       "    <tr>\n",
       "      <th>4</th>\n",
       "      <td>5617754119</td>\n",
       "      <td>1600295927</td>\n",
       "      <td>22</td>\n",
       "      <td>7</td>\n",
       "      <td>2074</td>\n",
       "      <td>dire</td>\n",
       "      <td>Hero(hero_id = 82)</td>\n",
       "      <td>Hero(hero_id = 39)</td>\n",
       "      <td>Hero(hero_id = 112)</td>\n",
       "      <td>Hero(hero_id = 10)</td>\n",
       "      <td>Hero(hero_id = 18)</td>\n",
       "      <td>Hero(hero_id = 104)</td>\n",
       "      <td>Hero(hero_id = 62)</td>\n",
       "      <td>Hero(hero_id = 67)</td>\n",
       "      <td>Hero(hero_id = 84)</td>\n",
       "      <td>Hero(hero_id = 21)</td>\n",
       "    </tr>\n",
       "  </tbody>\n",
       "</table>\n",
       "</div>"
      ],
      "text/plain": [
       "        match  start_time  game_mode  lobby_type  duration   winner  \\\n",
       "0  5617764354  1600297049         22           7      1038     dire   \n",
       "1  5617764355  1600297049         23           0      1518     dire   \n",
       "2  5617756164  1600296132         22           7      1997  radiant   \n",
       "3  5617754116  1600295927         22           0      1926  radiant   \n",
       "4  5617754119  1600295927         22           7      2074     dire   \n",
       "\n",
       "     radient_player_1     radient_player_2     radient_player_3  \\\n",
       "0   Hero(hero_id = 8)  Hero(hero_id = 105)   Hero(hero_id = 86)   \n",
       "1  Hero(hero_id = 40)   Hero(hero_id = 19)   Hero(hero_id = 54)   \n",
       "2   Hero(hero_id = 5)   Hero(hero_id = 36)   Hero(hero_id = 13)   \n",
       "3  Hero(hero_id = 60)   Hero(hero_id = 15)   Hero(hero_id = 34)   \n",
       "4  Hero(hero_id = 82)   Hero(hero_id = 39)  Hero(hero_id = 112)   \n",
       "\n",
       "      radient_player_4     radient_player_5        dire_player_1  \\\n",
       "0   Hero(hero_id = 11)   Hero(hero_id = 98)  Hero(hero_id = 110)   \n",
       "1   Hero(hero_id = 69)  Hero(hero_id = 105)   Hero(hero_id = 70)   \n",
       "2   Hero(hero_id = 14)   Hero(hero_id = 41)  Hero(hero_id = 126)   \n",
       "3  Hero(hero_id = 104)  Hero(hero_id = 107)   Hero(hero_id = 65)   \n",
       "4   Hero(hero_id = 10)   Hero(hero_id = 18)  Hero(hero_id = 104)   \n",
       "\n",
       "        dire_player_2        dire_player_3        dire_player_4  \\\n",
       "0  Hero(hero_id = 46)   Hero(hero_id = 19)   Hero(hero_id = 44)   \n",
       "1  Hero(hero_id = 93)   Hero(hero_id = 51)   Hero(hero_id = 86)   \n",
       "2  Hero(hero_id = 84)   Hero(hero_id = 10)  Hero(hero_id = 100)   \n",
       "3  Hero(hero_id = 70)  Hero(hero_id = 126)   Hero(hero_id = 31)   \n",
       "4  Hero(hero_id = 62)   Hero(hero_id = 67)   Hero(hero_id = 84)   \n",
       "\n",
       "         dire_player_5  \n",
       "0   Hero(hero_id = 38)  \n",
       "1   Hero(hero_id = 58)  \n",
       "2   Hero(hero_id = 21)  \n",
       "3  Hero(hero_id = 108)  \n",
       "4   Hero(hero_id = 21)  "
      ]
     },
     "execution_count": 5,
     "metadata": {},
     "output_type": "execute_result"
    }
   ],
   "source": [
    "df_match_and_details.head()"
   ]
  },
  {
   "cell_type": "markdown",
   "metadata": {},
   "source": [
    "## Removing all matches that take less than 15 min (900 sec)"
   ]
  },
  {
   "cell_type": "markdown",
   "metadata": {},
   "source": [
    "Matches that take less than 15 min are not quality matches. Most likely they are matches where someone is having their account's level boosted or people left the game"
   ]
  },
  {
   "cell_type": "code",
   "execution_count": 6,
   "metadata": {},
   "outputs": [
    {
     "data": {
      "text/plain": [
       "count    101372.000000\n",
       "mean       1570.038492\n",
       "std         470.614112\n",
       "min           7.000000\n",
       "25%        1265.000000\n",
       "50%        1579.000000\n",
       "75%        1908.000000\n",
       "max        3116.000000\n",
       "Name: duration, dtype: float64"
      ]
     },
     "execution_count": 6,
     "metadata": {},
     "output_type": "execute_result"
    }
   ],
   "source": [
    "#looking at the duration match data to determine the average game length\n",
    "df_match_and_details['duration'].describe()"
   ]
  },
  {
   "cell_type": "code",
   "execution_count": 7,
   "metadata": {},
   "outputs": [
    {
     "data": {
      "text/plain": [
       "(7877, 16)"
      ]
     },
     "execution_count": 7,
     "metadata": {},
     "output_type": "execute_result"
    }
   ],
   "source": [
    "#with a quater of games taking 20 minutes, all game under 15 min are most likely not matches that should be included\n",
    "df_match_and_details[df_match_and_details['duration'] < 900].shape"
   ]
  },
  {
   "cell_type": "code",
   "execution_count": 8,
   "metadata": {},
   "outputs": [],
   "source": [
    "#removing matches less than 15 min\n",
    "df_match_and_details = df_match_and_details[df_match_and_details['duration'] > 900]"
   ]
  },
  {
   "cell_type": "code",
   "execution_count": 9,
   "metadata": {},
   "outputs": [
    {
     "data": {
      "image/png": "[encoded data removed]",
      "text/plain": [
       "<Figure size 432x288 with 1 Axes>"
      ]
     },
     "metadata": {
      "needs_background": "light"
     },
     "output_type": "display_data"
    }
   ],
   "source": [
    "sns.distplot(df_match_and_details['duration']);"
   ]
  },
  {
   "cell_type": "markdown",
   "metadata": {},
   "source": [
    "### Looking at game type"
   ]
  },
  {
   "cell_type": "code",
   "execution_count": 10,
   "metadata": {},
   "outputs": [
    {
     "data": {
      "text/plain": [
       "game_mode\n",
       "2        17\n",
       "3      6990\n",
       "4      2469\n",
       "5        18\n",
       "18      888\n",
       "20        1\n",
       "22    52667\n",
       "23    30415\n",
       "dtype: int64"
      ]
     },
     "execution_count": 10,
     "metadata": {},
     "output_type": "execute_result"
    }
   ],
   "source": [
    "df_match_and_details.groupby('game_mode').size()"
   ]
  },
  {
   "cell_type": "markdown",
   "metadata": {},
   "source": [
    "### Game mode\n",
    " - 2 is Battle Cup (Event on Saturdays where people make groups of 5 and play for prizes)\n",
    " - 3 is Random Draft (Get to pick from 70 choices instead of 119)\n",
    " - 4 is Single Draft (Get to pick from 3 choices) -> will remove these games as this is often the pusnshment game type for people who leave too many games\n",
    " - 5 is All Random -> removed\n",
    " - 18 is Ability Draft -> removed as it doesn't represent heroes matchup correctly\n",
    " - 20 is All Random, All Mid -> removed\n",
    " - 22 is All Pick\n",
    " - 23 is Turbo"
   ]
  },
  {
   "cell_type": "code",
   "execution_count": 11,
   "metadata": {},
   "outputs": [
    {
     "data": {
      "image/png": "[encoded data removed]",
      "text/plain": [
       "<Figure size 432x288 with 1 Axes>"
      ]
     },
     "metadata": {
      "needs_background": "light"
     },
     "output_type": "display_data"
    }
   ],
   "source": [
    "sns.distplot(df_match_and_details[df_match_and_details['game_mode'] == 3]['duration'])\n",
    "sns.distplot(df_match_and_details[df_match_and_details['game_mode'] == 22]['duration'])\n",
    "sns.distplot(df_match_and_details[df_match_and_details['game_mode'] == 23]['duration']);"
   ]
  },
  {
   "cell_type": "code",
   "execution_count": 12,
   "metadata": {},
   "outputs": [],
   "source": [
    "# removing all game types except Random Draft, All-pick, Turbo\n",
    "df_match_and_details = df_match_and_details[(df_match_and_details['game_mode'] == 3) | (df_match_and_details['game_mode'] == 22) | (df_match_and_details['game_mode'] == 23)]"
   ]
  },
  {
   "cell_type": "markdown",
   "metadata": {},
   "source": [
    "The Turbo games have a much shorter game lenth as expected"
   ]
  },
  {
   "cell_type": "markdown",
   "metadata": {},
   "source": [
    "#### In the future would like to have enough data to only focus on all-pick but as Turbo is 1/3 of the data currently, I wont make that distinction yet\n"
   ]
  },
  {
   "cell_type": "code",
   "execution_count": null,
   "metadata": {},
   "outputs": [],
   "source": []
  },
  {
   "cell_type": "markdown",
   "metadata": {},
   "source": [
    "### Creating a dictionary of characters and the corresponding id number"
   ]
  },
  {
   "cell_type": "code",
   "execution_count": 13,
   "metadata": {},
   "outputs": [
    {
     "data": {
      "text/plain": [
       "['drow', 'ranger']"
      ]
     },
     "execution_count": 13,
     "metadata": {},
     "output_type": "execute_result"
    }
   ],
   "source": [
    "api.get_heroes()['heroes'][5]['name'].split(\"_\")[3:]"
   ]
  },
  {
   "cell_type": "code",
   "execution_count": 14,
   "metadata": {},
   "outputs": [
    {
     "data": {
      "text/plain": [
       "'drow_ranger'"
      ]
     },
     "execution_count": 14,
     "metadata": {},
     "output_type": "execute_result"
    }
   ],
   "source": [
    "drow_ranger = api.get_heroes()['heroes'][5]['name'].split(\"_\")[3:]\n",
    "'_'.join(drow_ranger)"
   ]
  },
  {
   "cell_type": "code",
   "execution_count": 15,
   "metadata": {},
   "outputs": [],
   "source": [
    "heroes = api.get_heroes()['heroes']"
   ]
  },
  {
   "cell_type": "code",
   "execution_count": 16,
   "metadata": {},
   "outputs": [],
   "source": [
    "heroes_dict = {}\n",
    "for hero in heroes:\n",
    "    hero_id = hero['id']\n",
    "    hero_name = hero['name'].split('_')[3:]\n",
    "    hero_name = '_'.join(hero_name)\n",
    "    heroes_dict[f'Hero(hero_id = {hero_id})'] = hero_name"
   ]
  },
  {
   "cell_type": "code",
   "execution_count": 17,
   "metadata": {},
   "outputs": [],
   "source": [
    "# changing some of the names that no one uses any more\n",
    "heroes_dict['Hero(hero_id = 11)'] = 'shadow_fiend'\n",
    "heroes_dict['Hero(hero_id = 36)'] = 'necrophos'\n",
    "heroes_dict['Hero(hero_id = 42)'] = 'wraith_king'\n",
    "heroes_dict['Hero(hero_id = 51)'] = 'clockwerk'\n",
    "heroes_dict['Hero(hero_id = 97)'] = 'magnus'\n",
    "heroes_dict['Hero(hero_id = 98)'] = 'timbersaw'"
   ]
  },
  {
   "cell_type": "code",
   "execution_count": 18,
   "metadata": {
    "collapsed": true,
    "jupyter": {
     "outputs_hidden": true
    }
   },
   "outputs": [
    {
     "data": {
      "text/plain": [
       "{'Hero(hero_id = 1)': 'antimage',\n",
       " 'Hero(hero_id = 2)': 'axe',\n",
       " 'Hero(hero_id = 3)': 'bane',\n",
       " 'Hero(hero_id = 4)': 'bloodseeker',\n",
       " 'Hero(hero_id = 5)': 'crystal_maiden',\n",
       " 'Hero(hero_id = 6)': 'drow_ranger',\n",
       " 'Hero(hero_id = 7)': 'earthshaker',\n",
       " 'Hero(hero_id = 8)': 'juggernaut',\n",
       " 'Hero(hero_id = 9)': 'mirana',\n",
       " 'Hero(hero_id = 11)': 'shadow_fiend',\n",
       " 'Hero(hero_id = 10)': 'morphling',\n",
       " 'Hero(hero_id = 12)': 'phantom_lancer',\n",
       " 'Hero(hero_id = 13)': 'puck',\n",
       " 'Hero(hero_id = 14)': 'pudge',\n",
       " 'Hero(hero_id = 15)': 'razor',\n",
       " 'Hero(hero_id = 16)': 'sand_king',\n",
       " 'Hero(hero_id = 17)': 'storm_spirit',\n",
       " 'Hero(hero_id = 18)': 'sven',\n",
       " 'Hero(hero_id = 19)': 'tiny',\n",
       " 'Hero(hero_id = 20)': 'vengefulspirit',\n",
       " 'Hero(hero_id = 21)': 'windrunner',\n",
       " 'Hero(hero_id = 22)': 'zuus',\n",
       " 'Hero(hero_id = 23)': 'kunkka',\n",
       " 'Hero(hero_id = 25)': 'lina',\n",
       " 'Hero(hero_id = 31)': 'lich',\n",
       " 'Hero(hero_id = 26)': 'lion',\n",
       " 'Hero(hero_id = 27)': 'shadow_shaman',\n",
       " 'Hero(hero_id = 28)': 'slardar',\n",
       " 'Hero(hero_id = 29)': 'tidehunter',\n",
       " 'Hero(hero_id = 30)': 'witch_doctor',\n",
       " 'Hero(hero_id = 32)': 'riki',\n",
       " 'Hero(hero_id = 33)': 'enigma',\n",
       " 'Hero(hero_id = 34)': 'tinker',\n",
       " 'Hero(hero_id = 35)': 'sniper',\n",
       " 'Hero(hero_id = 36)': 'necrophos',\n",
       " 'Hero(hero_id = 37)': 'warlock',\n",
       " 'Hero(hero_id = 38)': 'beastmaster',\n",
       " 'Hero(hero_id = 39)': 'queenofpain',\n",
       " 'Hero(hero_id = 40)': 'venomancer',\n",
       " 'Hero(hero_id = 41)': 'faceless_void',\n",
       " 'Hero(hero_id = 42)': 'wraith_king',\n",
       " 'Hero(hero_id = 43)': 'death_prophet',\n",
       " 'Hero(hero_id = 44)': 'phantom_assassin',\n",
       " 'Hero(hero_id = 45)': 'pugna',\n",
       " 'Hero(hero_id = 46)': 'templar_assassin',\n",
       " 'Hero(hero_id = 47)': 'viper',\n",
       " 'Hero(hero_id = 48)': 'luna',\n",
       " 'Hero(hero_id = 49)': 'dragon_knight',\n",
       " 'Hero(hero_id = 50)': 'dazzle',\n",
       " 'Hero(hero_id = 51)': 'clockwerk',\n",
       " 'Hero(hero_id = 52)': 'leshrac',\n",
       " 'Hero(hero_id = 53)': 'furion',\n",
       " 'Hero(hero_id = 54)': 'life_stealer',\n",
       " 'Hero(hero_id = 55)': 'dark_seer',\n",
       " 'Hero(hero_id = 56)': 'clinkz',\n",
       " 'Hero(hero_id = 57)': 'omniknight',\n",
       " 'Hero(hero_id = 58)': 'enchantress',\n",
       " 'Hero(hero_id = 59)': 'huskar',\n",
       " 'Hero(hero_id = 60)': 'night_stalker',\n",
       " 'Hero(hero_id = 61)': 'broodmother',\n",
       " 'Hero(hero_id = 62)': 'bounty_hunter',\n",
       " 'Hero(hero_id = 63)': 'weaver',\n",
       " 'Hero(hero_id = 64)': 'jakiro',\n",
       " 'Hero(hero_id = 65)': 'batrider',\n",
       " 'Hero(hero_id = 66)': 'chen',\n",
       " 'Hero(hero_id = 67)': 'spectre',\n",
       " 'Hero(hero_id = 69)': 'doom_bringer',\n",
       " 'Hero(hero_id = 68)': 'ancient_apparition',\n",
       " 'Hero(hero_id = 70)': 'ursa',\n",
       " 'Hero(hero_id = 71)': 'spirit_breaker',\n",
       " 'Hero(hero_id = 72)': 'gyrocopter',\n",
       " 'Hero(hero_id = 73)': 'alchemist',\n",
       " 'Hero(hero_id = 74)': 'invoker',\n",
       " 'Hero(hero_id = 75)': 'silencer',\n",
       " 'Hero(hero_id = 76)': 'obsidian_destroyer',\n",
       " 'Hero(hero_id = 77)': 'lycan',\n",
       " 'Hero(hero_id = 78)': 'brewmaster',\n",
       " 'Hero(hero_id = 79)': 'shadow_demon',\n",
       " 'Hero(hero_id = 80)': 'lone_druid',\n",
       " 'Hero(hero_id = 81)': 'chaos_knight',\n",
       " 'Hero(hero_id = 82)': 'meepo',\n",
       " 'Hero(hero_id = 83)': 'treant',\n",
       " 'Hero(hero_id = 84)': 'ogre_magi',\n",
       " 'Hero(hero_id = 85)': 'undying',\n",
       " 'Hero(hero_id = 86)': 'rubick',\n",
       " 'Hero(hero_id = 87)': 'disruptor',\n",
       " 'Hero(hero_id = 88)': 'nyx_assassin',\n",
       " 'Hero(hero_id = 89)': 'naga_siren',\n",
       " 'Hero(hero_id = 90)': 'keeper_of_the_light',\n",
       " 'Hero(hero_id = 91)': 'wisp',\n",
       " 'Hero(hero_id = 92)': 'visage',\n",
       " 'Hero(hero_id = 93)': 'slark',\n",
       " 'Hero(hero_id = 94)': 'medusa',\n",
       " 'Hero(hero_id = 95)': 'troll_warlord',\n",
       " 'Hero(hero_id = 96)': 'centaur',\n",
       " 'Hero(hero_id = 97)': 'magnus',\n",
       " 'Hero(hero_id = 98)': 'timbersaw',\n",
       " 'Hero(hero_id = 99)': 'bristleback',\n",
       " 'Hero(hero_id = 100)': 'tusk',\n",
       " 'Hero(hero_id = 101)': 'skywrath_mage',\n",
       " 'Hero(hero_id = 102)': 'abaddon',\n",
       " 'Hero(hero_id = 103)': 'elder_titan',\n",
       " 'Hero(hero_id = 104)': 'legion_commander',\n",
       " 'Hero(hero_id = 106)': 'ember_spirit',\n",
       " 'Hero(hero_id = 107)': 'earth_spirit',\n",
       " 'Hero(hero_id = 109)': 'terrorblade',\n",
       " 'Hero(hero_id = 110)': 'phoenix',\n",
       " 'Hero(hero_id = 111)': 'oracle',\n",
       " 'Hero(hero_id = 105)': 'techies',\n",
       " 'Hero(hero_id = 112)': 'winter_wyvern',\n",
       " 'Hero(hero_id = 113)': 'arc_warden',\n",
       " 'Hero(hero_id = 108)': 'abyssal_underlord',\n",
       " 'Hero(hero_id = 114)': 'monkey_king',\n",
       " 'Hero(hero_id = 120)': 'pangolier',\n",
       " 'Hero(hero_id = 119)': 'dark_willow',\n",
       " 'Hero(hero_id = 121)': 'grimstroke',\n",
       " 'Hero(hero_id = 129)': 'mars',\n",
       " 'Hero(hero_id = 126)': 'void_spirit',\n",
       " 'Hero(hero_id = 128)': 'snapfire'}"
      ]
     },
     "execution_count": 18,
     "metadata": {},
     "output_type": "execute_result"
    }
   ],
   "source": [
    "heroes_dict;"
   ]
  },
  {
   "cell_type": "markdown",
   "metadata": {},
   "source": [
    "### Mapping the heroes dict to the match dataframe"
   ]
  },
  {
   "cell_type": "code",
   "execution_count": 19,
   "metadata": {},
   "outputs": [
    {
     "data": {
      "text/html": [
       "<div>\n",
       "<style scoped>\n",
       "    .dataframe tbody tr th:only-of-type {\n",
       "        vertical-align: middle;\n",
       "    }\n",
       "\n",
       "    .dataframe tbody tr th {\n",
       "        vertical-align: top;\n",
       "    }\n",
       "\n",
       "    .dataframe thead th {\n",
       "        text-align: right;\n",
       "    }\n",
       "</style>\n",
       "<table border=\"1\" class=\"dataframe\">\n",
       "  <thead>\n",
       "    <tr style=\"text-align: right;\">\n",
       "      <th></th>\n",
       "      <th>match</th>\n",
       "      <th>start_time</th>\n",
       "      <th>game_mode</th>\n",
       "      <th>lobby_type</th>\n",
       "      <th>duration</th>\n",
       "      <th>winner</th>\n",
       "      <th>radient_player_1</th>\n",
       "      <th>radient_player_2</th>\n",
       "      <th>radient_player_3</th>\n",
       "      <th>radient_player_4</th>\n",
       "      <th>radient_player_5</th>\n",
       "      <th>dire_player_1</th>\n",
       "      <th>dire_player_2</th>\n",
       "      <th>dire_player_3</th>\n",
       "      <th>dire_player_4</th>\n",
       "      <th>dire_player_5</th>\n",
       "    </tr>\n",
       "  </thead>\n",
       "  <tbody>\n",
       "    <tr>\n",
       "      <th>0</th>\n",
       "      <td>5617764354</td>\n",
       "      <td>1600297049</td>\n",
       "      <td>22</td>\n",
       "      <td>7</td>\n",
       "      <td>1038</td>\n",
       "      <td>dire</td>\n",
       "      <td>Hero(hero_id = 8)</td>\n",
       "      <td>Hero(hero_id = 105)</td>\n",
       "      <td>Hero(hero_id = 86)</td>\n",
       "      <td>Hero(hero_id = 11)</td>\n",
       "      <td>Hero(hero_id = 98)</td>\n",
       "      <td>Hero(hero_id = 110)</td>\n",
       "      <td>Hero(hero_id = 46)</td>\n",
       "      <td>Hero(hero_id = 19)</td>\n",
       "      <td>Hero(hero_id = 44)</td>\n",
       "      <td>Hero(hero_id = 38)</td>\n",
       "    </tr>\n",
       "    <tr>\n",
       "      <th>1</th>\n",
       "      <td>5617764355</td>\n",
       "      <td>1600297049</td>\n",
       "      <td>23</td>\n",
       "      <td>0</td>\n",
       "      <td>1518</td>\n",
       "      <td>dire</td>\n",
       "      <td>Hero(hero_id = 40)</td>\n",
       "      <td>Hero(hero_id = 19)</td>\n",
       "      <td>Hero(hero_id = 54)</td>\n",
       "      <td>Hero(hero_id = 69)</td>\n",
       "      <td>Hero(hero_id = 105)</td>\n",
       "      <td>Hero(hero_id = 70)</td>\n",
       "      <td>Hero(hero_id = 93)</td>\n",
       "      <td>Hero(hero_id = 51)</td>\n",
       "      <td>Hero(hero_id = 86)</td>\n",
       "      <td>Hero(hero_id = 58)</td>\n",
       "    </tr>\n",
       "  </tbody>\n",
       "</table>\n",
       "</div>"
      ],
      "text/plain": [
       "        match  start_time  game_mode  lobby_type  duration winner  \\\n",
       "0  5617764354  1600297049         22           7      1038   dire   \n",
       "1  5617764355  1600297049         23           0      1518   dire   \n",
       "\n",
       "     radient_player_1     radient_player_2    radient_player_3  \\\n",
       "0   Hero(hero_id = 8)  Hero(hero_id = 105)  Hero(hero_id = 86)   \n",
       "1  Hero(hero_id = 40)   Hero(hero_id = 19)  Hero(hero_id = 54)   \n",
       "\n",
       "     radient_player_4     radient_player_5        dire_player_1  \\\n",
       "0  Hero(hero_id = 11)   Hero(hero_id = 98)  Hero(hero_id = 110)   \n",
       "1  Hero(hero_id = 69)  Hero(hero_id = 105)   Hero(hero_id = 70)   \n",
       "\n",
       "        dire_player_2       dire_player_3       dire_player_4  \\\n",
       "0  Hero(hero_id = 46)  Hero(hero_id = 19)  Hero(hero_id = 44)   \n",
       "1  Hero(hero_id = 93)  Hero(hero_id = 51)  Hero(hero_id = 86)   \n",
       "\n",
       "        dire_player_5  \n",
       "0  Hero(hero_id = 38)  \n",
       "1  Hero(hero_id = 58)  "
      ]
     },
     "execution_count": 19,
     "metadata": {},
     "output_type": "execute_result"
    }
   ],
   "source": [
    "df_match_and_details.head(2)"
   ]
  },
  {
   "cell_type": "code",
   "execution_count": 21,
   "metadata": {},
   "outputs": [],
   "source": [
    "# mapping the heroes dictinary with hero names to the match dataframe\n",
    "complete_df = df_match_and_details\n",
    "players = ['radient_player_1','radient_player_2','radient_player_3','radient_player_4','radient_player_5','dire_player_1','dire_player_2','dire_player_3','dire_player_4','dire_player_5']\n",
    "for label in players:\n",
    "    complete_df[label] = df_match_and_details[label].map(heroes_dict)\n"
   ]
  },
  {
   "cell_type": "code",
   "execution_count": 22,
   "metadata": {},
   "outputs": [
    {
     "data": {
      "text/html": [
       "<div>\n",
       "<style scoped>\n",
       "    .dataframe tbody tr th:only-of-type {\n",
       "        vertical-align: middle;\n",
       "    }\n",
       "\n",
       "    .dataframe tbody tr th {\n",
       "        vertical-align: top;\n",
       "    }\n",
       "\n",
       "    .dataframe thead th {\n",
       "        text-align: right;\n",
       "    }\n",
       "</style>\n",
       "<table border=\"1\" class=\"dataframe\">\n",
       "  <thead>\n",
       "    <tr style=\"text-align: right;\">\n",
       "      <th></th>\n",
       "      <th>match</th>\n",
       "      <th>start_time</th>\n",
       "      <th>game_mode</th>\n",
       "      <th>lobby_type</th>\n",
       "      <th>duration</th>\n",
       "      <th>winner</th>\n",
       "      <th>radient_player_1</th>\n",
       "      <th>radient_player_2</th>\n",
       "      <th>radient_player_3</th>\n",
       "      <th>radient_player_4</th>\n",
       "      <th>radient_player_5</th>\n",
       "      <th>dire_player_1</th>\n",
       "      <th>dire_player_2</th>\n",
       "      <th>dire_player_3</th>\n",
       "      <th>dire_player_4</th>\n",
       "      <th>dire_player_5</th>\n",
       "    </tr>\n",
       "  </thead>\n",
       "  <tbody>\n",
       "    <tr>\n",
       "      <th>0</th>\n",
       "      <td>5617764354</td>\n",
       "      <td>1600297049</td>\n",
       "      <td>22</td>\n",
       "      <td>7</td>\n",
       "      <td>1038</td>\n",
       "      <td>dire</td>\n",
       "      <td>juggernaut</td>\n",
       "      <td>techies</td>\n",
       "      <td>rubick</td>\n",
       "      <td>shadow_fiend</td>\n",
       "      <td>timbersaw</td>\n",
       "      <td>phoenix</td>\n",
       "      <td>templar_assassin</td>\n",
       "      <td>tiny</td>\n",
       "      <td>phantom_assassin</td>\n",
       "      <td>beastmaster</td>\n",
       "    </tr>\n",
       "    <tr>\n",
       "      <th>1</th>\n",
       "      <td>5617764355</td>\n",
       "      <td>1600297049</td>\n",
       "      <td>23</td>\n",
       "      <td>0</td>\n",
       "      <td>1518</td>\n",
       "      <td>dire</td>\n",
       "      <td>venomancer</td>\n",
       "      <td>tiny</td>\n",
       "      <td>life_stealer</td>\n",
       "      <td>doom_bringer</td>\n",
       "      <td>techies</td>\n",
       "      <td>ursa</td>\n",
       "      <td>slark</td>\n",
       "      <td>clockwerk</td>\n",
       "      <td>rubick</td>\n",
       "      <td>enchantress</td>\n",
       "    </tr>\n",
       "    <tr>\n",
       "      <th>2</th>\n",
       "      <td>5617756164</td>\n",
       "      <td>1600296132</td>\n",
       "      <td>22</td>\n",
       "      <td>7</td>\n",
       "      <td>1997</td>\n",
       "      <td>radiant</td>\n",
       "      <td>crystal_maiden</td>\n",
       "      <td>necrophos</td>\n",
       "      <td>puck</td>\n",
       "      <td>pudge</td>\n",
       "      <td>faceless_void</td>\n",
       "      <td>void_spirit</td>\n",
       "      <td>ogre_magi</td>\n",
       "      <td>morphling</td>\n",
       "      <td>tusk</td>\n",
       "      <td>windrunner</td>\n",
       "    </tr>\n",
       "    <tr>\n",
       "      <th>3</th>\n",
       "      <td>5617754116</td>\n",
       "      <td>1600295927</td>\n",
       "      <td>22</td>\n",
       "      <td>0</td>\n",
       "      <td>1926</td>\n",
       "      <td>radiant</td>\n",
       "      <td>night_stalker</td>\n",
       "      <td>razor</td>\n",
       "      <td>tinker</td>\n",
       "      <td>legion_commander</td>\n",
       "      <td>earth_spirit</td>\n",
       "      <td>batrider</td>\n",
       "      <td>ursa</td>\n",
       "      <td>void_spirit</td>\n",
       "      <td>lich</td>\n",
       "      <td>abyssal_underlord</td>\n",
       "    </tr>\n",
       "    <tr>\n",
       "      <th>4</th>\n",
       "      <td>5617754119</td>\n",
       "      <td>1600295927</td>\n",
       "      <td>22</td>\n",
       "      <td>7</td>\n",
       "      <td>2074</td>\n",
       "      <td>dire</td>\n",
       "      <td>meepo</td>\n",
       "      <td>queenofpain</td>\n",
       "      <td>winter_wyvern</td>\n",
       "      <td>morphling</td>\n",
       "      <td>sven</td>\n",
       "      <td>legion_commander</td>\n",
       "      <td>bounty_hunter</td>\n",
       "      <td>spectre</td>\n",
       "      <td>ogre_magi</td>\n",
       "      <td>windrunner</td>\n",
       "    </tr>\n",
       "  </tbody>\n",
       "</table>\n",
       "</div>"
      ],
      "text/plain": [
       "        match  start_time  game_mode  lobby_type  duration   winner  \\\n",
       "0  5617764354  1600297049         22           7      1038     dire   \n",
       "1  5617764355  1600297049         23           0      1518     dire   \n",
       "2  5617756164  1600296132         22           7      1997  radiant   \n",
       "3  5617754116  1600295927         22           0      1926  radiant   \n",
       "4  5617754119  1600295927         22           7      2074     dire   \n",
       "\n",
       "  radient_player_1 radient_player_2 radient_player_3  radient_player_4  \\\n",
       "0       juggernaut          techies           rubick      shadow_fiend   \n",
       "1       venomancer             tiny     life_stealer      doom_bringer   \n",
       "2   crystal_maiden        necrophos             puck             pudge   \n",
       "3    night_stalker            razor           tinker  legion_commander   \n",
       "4            meepo      queenofpain    winter_wyvern         morphling   \n",
       "\n",
       "  radient_player_5     dire_player_1     dire_player_2 dire_player_3  \\\n",
       "0        timbersaw           phoenix  templar_assassin          tiny   \n",
       "1          techies              ursa             slark     clockwerk   \n",
       "2    faceless_void       void_spirit         ogre_magi     morphling   \n",
       "3     earth_spirit          batrider              ursa   void_spirit   \n",
       "4             sven  legion_commander     bounty_hunter       spectre   \n",
       "\n",
       "      dire_player_4      dire_player_5  \n",
       "0  phantom_assassin        beastmaster  \n",
       "1            rubick        enchantress  \n",
       "2              tusk         windrunner  \n",
       "3              lich  abyssal_underlord  \n",
       "4         ogre_magi         windrunner  "
      ]
     },
     "execution_count": 22,
     "metadata": {},
     "output_type": "execute_result"
    }
   ],
   "source": [
    "complete_df.head()"
   ]
  },
  {
   "cell_type": "code",
   "execution_count": 23,
   "metadata": {},
   "outputs": [],
   "source": [
    "#creating the radient and dire teams \n",
    "complete_df['radiant'] = 'r_'+complete_df['radient_player_1']+' r_'+complete_df['radient_player_2']+' r_'+complete_df['radient_player_3']+' r_'+complete_df['radient_player_4']+' r_'+complete_df['radient_player_5']\n",
    "complete_df['dire'] = 'd_'+complete_df['dire_player_1']+' d_'+complete_df['dire_player_2']+' d_'+complete_df['dire_player_3']+' d_'+complete_df['dire_player_4']+' d_'+complete_df['dire_player_5']"
   ]
  },
  {
   "cell_type": "markdown",
   "metadata": {},
   "source": [
    "### Exporting the complete match dataframe as .csv to use in modeling"
   ]
  },
  {
   "cell_type": "code",
   "execution_count": 24,
   "metadata": {},
   "outputs": [],
   "source": [
    "complete_df.to_csv(\"../data/complete_match_df.csv\", index=False)"
   ]
  }
 ],
 "metadata": {
  "kernelspec": {
   "display_name": "Python 3",
   "language": "python",
   "name": "python3"
  },
  "language_info": {
   "codemirror_mode": {
    "name": "ipython",
    "version": 3
   },
   "file_extension": ".py",
   "mimetype": "text/x-python",
   "name": "python",
   "nbconvert_exporter": "python",
   "pygments_lexer": "ipython3",
   "version": "3.7.7"
  }
 },
 "nbformat": 4,
 "nbformat_minor": 4
}
